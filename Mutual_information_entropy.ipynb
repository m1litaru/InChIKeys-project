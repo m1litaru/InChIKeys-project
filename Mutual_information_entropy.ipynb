{
  "nbformat": 4,
  "nbformat_minor": 0,
  "metadata": {
    "kernelspec": {
      "display_name": "Python 3",
      "language": "python",
      "name": "python3"
    },
    "language_info": {
      "codemirror_mode": {
        "name": "ipython",
        "version": 3
      },
      "file_extension": ".py",
      "mimetype": "text/x-python",
      "name": "python",
      "nbconvert_exporter": "python",
      "pygments_lexer": "ipython3",
      "version": "3.8.5"
    },
    "colab": {
      "name": "Mutual information entropy.ipynb",
      "provenance": []
    }
  },
  "cells": [
    {
      "cell_type": "code",
      "metadata": {
        "id": "xnPXocuqOQS1"
      },
      "source": [
        "import numpy as np\n",
        "\n",
        "def entropy_1(X):\n",
        "    probs = []\n",
        "    for c in set(X):\n",
        "        probs.append(np.mean(X == c))\n",
        "    return sum(-p * np.log2(p) for p in probs if p > 0)\n",
        "\n",
        "def entropy_2(X, Y):\n",
        "    probs = []\n",
        "    for c1 in set(X):\n",
        "        for c2 in set(Y):\n",
        "            probs.append(np.mean(np.logical_and(X == c1, Y == c2)))\n",
        "    return sum(-p * np.log2(p) for p in probs if p > 0)\n",
        "\n",
        "def mutual_information(X, Y):\n",
        "        return entropy_1(X) + entropy_1(Y) - entropy_2(X, Y) "
      ],
      "execution_count": null,
      "outputs": []
    }
  ]
}