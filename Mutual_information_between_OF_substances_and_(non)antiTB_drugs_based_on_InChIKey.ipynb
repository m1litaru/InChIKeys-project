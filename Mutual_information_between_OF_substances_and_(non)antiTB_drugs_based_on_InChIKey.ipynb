{
  "nbformat": 4,
  "nbformat_minor": 0,
  "metadata": {
    "colab": {
      "name": "Mutual information between OF-substances and (non)antiTB drugs based on InChIKey",
      "provenance": [],
      "collapsed_sections": []
    },
    "kernelspec": {
      "name": "python3",
      "display_name": "Python 3"
    },
    "language_info": {
      "name": "python"
    }
  },
  "cells": [
    {
      "cell_type": "markdown",
      "metadata": {
        "id": "dLhVNAbCtBru"
      },
      "source": [
        "This script transforms InChIKeys from strings into an array with 25 integers. (InChIKey codes have 27 characters, but we omit the dashes (–).)"
      ]
    },
    {
      "cell_type": "code",
      "metadata": {
        "id": "GYI40E0y__iW"
      },
      "source": [
        "# transform one InChIKey into an int array\n",
        "def convert_InChIKeyToInt(InChIKey):\n",
        "  numeric = ''\n",
        "  for c in InChIKey:\n",
        "    if(c.isalpha()):\n",
        "      numeric += str(ord(c))+','\n",
        "  return numeric[:-1]\n",
        "\n",
        "def convert_InChIKeyToIntArray(InChIKey):\n",
        "  numeric = np.zeros(25)\n",
        "  i = 0\n",
        "  for c in InChIKey:\n",
        "    if(c.isalpha()):\n",
        "      numeric[i] = ord(c)\n",
        "      i += 1\n",
        "  return numeric. astype(int)\n",
        "\n",
        "# transform all InChIKeys from one .csv file into int arrays\n",
        "def getNumericInChIKeysFromFile(filename, noOfDrugs):\n",
        "  dataset = pd.read_csv(filename)\n",
        "  for i in range(0,noOfDrugs):\n",
        "    print(convert_InChIKeyToInt(dataset.iloc[i,1:2].values[0]))\n",
        "\n",
        "# e.g.: getNumericInChIKeysFromFile('non-antiTB InChIKey (strings).csv', 71)"
      ],
      "execution_count": null,
      "outputs": []
    },
    {
      "cell_type": "markdown",
      "metadata": {
        "id": "cZtX0hXiuFOR"
      },
      "source": [
        "The following functions compute the mutual information between two entities."
      ]
    },
    {
      "cell_type": "code",
      "metadata": {
        "id": "rdavDBe_mf0q"
      },
      "source": [
        "def entropy_1(X):\n",
        "    probs = []\n",
        "    for c in set(X):\n",
        "        probs.append(np.mean(X == c))\n",
        "    return sum(-p * np.log2(p) for p in probs if p > 0)\n",
        "\n",
        "def entropy_2(X, Y):\n",
        "    probs = []\n",
        "    for c1 in set(X):\n",
        "        for c2 in set(Y):\n",
        "            probs.append(np.mean(np.logical_and(X == c1, Y == c2)))\n",
        "    return sum(-p * np.log2(p) for p in probs if p > 0)\n",
        "\n",
        "def mutual_information(X, Y):\n",
        "        return entropy_1(X) + entropy_1(Y) - entropy_2(X, Y) "
      ],
      "execution_count": null,
      "outputs": []
    },
    {
      "cell_type": "markdown",
      "metadata": {
        "id": "UECY4zPYud3b"
      },
      "source": [
        "Next, we parse two files and create one dataset containing the drugs in each file. After this, we compute the mutual information between the InChIKeys of those drugs. The script can be run with the file containing OF-substances, anti-TB drugs or non-antiTB drugs, depending on what we want to obtain."
      ]
    },
    {
      "cell_type": "code",
      "metadata": {
        "id": "6Dq3co0yn4qF"
      },
      "source": [
        "dataset = pd.read_csv('InChIKeys project - antiTB.csv')\n",
        "dataset1 = dataset.iloc[:,:3].values\n",
        "a = len(dataset1)\n",
        "\n",
        "dataset2 = pd.read_csv('InChIKeys project - non-antiTBs.csv')\n",
        "dataset2 = dataset2.iloc[:,:2].values\n",
        "b = len(nonantiTBs)\n",
        "\n",
        "mutual_info = np.zeros((a,b))\n",
        "\n",
        "for i in range(1,a):\n",
        "  for j in range(0,b):\n",
        "    drug1 = dataset1[i][2]\n",
        "    drug2 = dataset2[j][1]\n",
        "    # print(drug1, drug2)\n",
        "    A = convert_InChIKeyToIntArray(drug1)\n",
        "    B = convert_InChIKeyToIntArray(drug2)\n",
        "    sim = mutual_information(A,B)\n",
        "    mutual_info[i,j] = round(mutual_information(A,B), 4)\n",
        "\n",
        "std = np.std(mutual_info)\n",
        "mean = np.average(mutual_info)\n",
        "\n",
        "for i in range(0,a):\n",
        "  for j in range(0,b):\n",
        "    print(dataset1[i][0] + \",\" + dataset2[j][0] + \",\" + str(round((mutual_info[i,j] - mean)/std, 4)))\n",
        "    print(mutual_info[i,j])"
      ],
      "execution_count": null,
      "outputs": []
    }
  ]
}