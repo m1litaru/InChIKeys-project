{
  "nbformat": 4,
  "nbformat_minor": 0,
  "metadata": {
    "colab": {
      "name": "Obtain numeric features from InChIKeys",
      "provenance": []
    },
    "kernelspec": {
      "name": "python3",
      "display_name": "Python 3"
    },
    "language_info": {
      "name": "python"
    }
  },
  "cells": [
    {
      "cell_type": "code",
      "metadata": {
        "id": "F8H_yoaiCRyV"
      },
      "source": [
        "# transform one InChIKey into an int array\n",
        "def convert_InChIKeyToInt(InChIKey):\n",
        "  numeric = ''\n",
        "  for c in InChIKey:\n",
        "    if(c.isalpha()):\n",
        "      numeric += str(ord(c))+','\n",
        "  return numeric[:-1]\n",
        "\n",
        "def convert_InChIKeyToIntArray(InChIKey):\n",
        "  numeric = np.zeros(25)\n",
        "  i = 0\n",
        "  for c in InChIKey:\n",
        "    if(c.isalpha()):\n",
        "      numeric[i] = ord(c)\n",
        "      i += 1\n",
        "  return numeric. astype(int)\n",
        "\n",
        "# transform all InChIKeys from one .csv file into int arrays\n",
        "def getNumericInChIKeysFromFile(filename, noOfDrugs):\n",
        "  dataset = pd.read_csv(filename)\n",
        "  for i in range(0,noOfDrugs):\n",
        "    print(convert_InChIKeyToInt(dataset.iloc[i,1:2].values[0]))\n",
        "\n",
        "# e.g.: getNumericInChIKeysFromFile('non-antiTB InChIKey (strings).csv', 71)"
      ],
      "execution_count": null,
      "outputs": []
    }
  ]
}
